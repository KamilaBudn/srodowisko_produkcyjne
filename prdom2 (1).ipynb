{
 "cells": [
  {
   "cell_type": "code",
   "execution_count": null,
   "id": "cf4fcce6",
   "metadata": {},
   "outputs": [],
   "source": [
    "# This file defines the Docker container that will contain the Flask app.\n",
    "\n",
    "# From the source image\n",
    "FROM python:3.6-slim\n",
    "\n",
    "# Identify maintainer\n",
    "LABEL maintainer = \"calbon@wikimedia.org\"\n",
    "\n",
    "# Set the default working directory\n",
    "WORKDIR /app/\n",
    "\n",
    "# Copy requirements.txt outside the container\n",
    "# to /app/ inside the container\n",
    "COPY requirements.txt /app/\n",
    "\n",
    "# Install required packages\n",
    "RUN pip install -r ./requirements.txt\n",
    "\n",
    "# Copy app.py and__init__.py outside the container\n",
    "# to /app/ inside the container\n",
    "COPY app.py __init__.py /app/\n",
    "\n",
    "# Copy model.pkl outside the container\n",
    "# to /app/ inside the container\n",
    "COPY model.pkl /app/\n",
    "\n",
    "# Expose the container's port 3333\n",
    "EXPOSE 3333\n",
    "\n",
    "# When the container starts, run this\n",
    "ENTRYPOINT python ./app.py"
   ]
  }
 ],
 "metadata": {
  "kernelspec": {
   "display_name": "Python 3",
   "language": "python",
   "name": "python3"
  },
  "language_info": {
   "codemirror_mode": {
    "name": "ipython",
    "version": 3
   },
   "file_extension": ".py",
   "mimetype": "text/x-python",
   "name": "python",
   "nbconvert_exporter": "python",
   "pygments_lexer": "ipython3",
   "version": "3.8.8"
  }
 },
 "nbformat": 4,
 "nbformat_minor": 5
}
